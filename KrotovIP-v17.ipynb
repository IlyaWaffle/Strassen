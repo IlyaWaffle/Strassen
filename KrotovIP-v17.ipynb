{
 "cells": [
  {
   "cell_type": "markdown",
   "metadata": {},
   "source": [
    "## Системы компьютерной математики Кротов Илья Павлович 381908-2 Вариант 17"
   ]
  },
  {
   "cell_type": "markdown",
   "metadata": {},
   "source": [
    "*Метод Штрассена* умножения матриц заключается в разбиении матрицы на 4 равные клетки\n",
    "$$\n",
    "\\left(\n",
    "\\begin{array}{cc}\n",
    "C_{11} & C_{12}   \\\\\n",
    "C_{21} & C_{22}   \\\\\n",
    "\\end{array}\n",
    "\\right)\n",
    "=\n",
    "\\left(\n",
    "\\begin{array}{cc}\n",
    "A_{11} & A_{12}   \\\\\n",
    "A_{21} & A_{22}   \\\\\n",
    "\\end{array}\n",
    "\\right)\n",
    "\\cdot\n",
    "\\left(\n",
    "\\begin{array}{cc}\n",
    "B_{11} & B_{12}   \\\\\n",
    "B_{21} & B_{22}   \\\\\n",
    "\\end{array}\n",
    "\\right),\n",
    "$$\n",
    " и нахождения\n",
    "произведения по формулам:\n",
    "$$\n",
    "\\begin{array}{l}\n",
    "D_1 = (A_{11} + A_{22}) \\cdot (B_{11} + B_{22}), \\\\\n",
    "D_2 = (A_{12} - A_{22}) \\cdot (B_{21} + B_{22}), \\\\\n",
    "D_3 = (A_{11} - A_{21}) \\cdot (B_{11} + B_{12}), \\\\\n",
    "D_4 = (A_{11} + A_{12}) \\cdot B_{22}, \\\\\n",
    "D_5 = (A_{21} + A_{22}) \\cdot B_{11}, \\\\\n",
    "D_6 = A_{11} \\cdot (B_{12} - B_{22}), \\\\\n",
    "D_7 = A_{22} \\cdot (-B_{11}+B_{21}), \\\\\n",
    "\\end{array}\n",
    "$$\n",
    "  \\begin{array}{l}\n",
    "    C_{11}  =    D_1   +   D_2             -   D_4                      +    D_7   ,\\\\\n",
    "    C_{12}  =                                  D_4            +    D_6,             \\\\\n",
    "    C_{21}  =                                            D_5            +    D_7   ,\\\\\n",
    "    C_{22}  =    D_1             -   D_3             -   D_5  +    D_6.             \\\\\n",
    "  \\end{array}\n"
   ]
  },
  {
   "cell_type": "markdown",
   "metadata": {},
   "source": [
    "Подключим необходимые библиотеки:"
   ]
  },
  {
   "cell_type": "code",
   "execution_count": 2,
   "metadata": {},
   "outputs": [],
   "source": [
    "import numpy as np\n",
    "import matplotlib.pyplot as plt\n",
    "%matplotlib inline\n",
    "import time\n",
    "import math"
   ]
  },
  {
   "cell_type": "markdown",
   "metadata": {},
   "source": [
    "Для начала напишем функцию, выполняющую обычный алгоритм перемножения матриц:"
   ]
  },
  {
   "cell_type": "code",
   "execution_count": 3,
   "metadata": {},
   "outputs": [],
   "source": [
    "def UsualAlg(A,B):\n",
    "    n=len(A)\n",
    "    C = np.zeros((n*n), dtype=np.int).reshape(n,n)\n",
    "    if(n==1):\n",
    "        return A[0][0]*B[0][0]\n",
    "    else:\n",
    "        for i in range(n):\n",
    "            for k in range(n):\n",
    "                for j in range(n):\n",
    "                    C[i][j] += A[i][k] * B[k][j]\n",
    "        return C"
   ]
  },
  {
   "cell_type": "markdown",
   "metadata": {},
   "source": [
    "Напишем функцию,выполняющую алгоритм Штрассена:"
   ]
  },
  {
   "cell_type": "code",
   "execution_count": 4,
   "metadata": {},
   "outputs": [],
   "source": [
    "def strassen(A,B):\n",
    "    n = len(A)\n",
    "    if n == 1:\n",
    "        return A[0][0] * B[0][0]\n",
    "    else:\n",
    "        C = np.zeros((n*n), dtype=np.int).reshape(n,n)\n",
    "        k = n//2\n",
    "        \n",
    "        a11,a21,a12,a22 = A[:k,:k], A[k:, :k], A[:k, k:], A[k:, k:]\n",
    "        b11,b21,b12,b22 = B[:k,:k], B[k:, :k], B[:k, k:], B[k:, k:]\n",
    "\n",
    "\n",
    "        d1 = strassen(a11+a22,b11+b22)\n",
    "        d2 = strassen(a12-a22,b21+b22)\n",
    "        d3 = strassen(a11-a21,b11+b12)\n",
    "        d4 = strassen(a11+a12,b22)\n",
    "        d5 = strassen(a21+a22,b11)\n",
    "        d6 = strassen(a11,b12-b22)\n",
    "        d7 = strassen(a22,b21-b11)\n",
    "\n",
    "        C[:k,:k] = d1+d2-d4+d7\n",
    "        C[:k, k:] = d4+d6\n",
    "        C[k:, :k] = d5+d7\n",
    "        C[k:, k:] = d1-d3-d5+d6\n",
    "\n",
    "    return C"
   ]
  },
  {
   "cell_type": "markdown",
   "metadata": {},
   "source": [
    "Теперь можно приступить к исследованию.Напишем код,реализующий тестирование функций:"
   ]
  },
  {
   "cell_type": "code",
   "execution_count": 106,
   "metadata": {},
   "outputs": [],
   "source": [
    "j=9\n",
    "kol=np.zeros(j)\n",
    "times=np.zeros((j),dtype=np.float)\n",
    "times1=np.zeros((j),dtype=np.float)\n",
    "for k in range (j):\n",
    "    n=2**k\n",
    "    kol[k]=n\n",
    "    A = np.random.uniform(0,1, size=(n,n))\n",
    "    B = np.random.uniform(0,1, size=(n,n))\n",
    "    start=time.monotonic()\n",
    "    C=strassen(A,B)\n",
    "    t=time.monotonic()-start\n",
    "    times[k]=t\n",
    "    start=time.monotonic()\n",
    "    C=UsualAlg(A,B)\n",
    "    t=time.monotonic()-start\n",
    "    times1[k]=t"
   ]
  },
  {
   "cell_type": "markdown",
   "metadata": {},
   "source": [
    "Теперь на графике проиллюстрируем,как быстро растет время выполнения обоих алгоритмов:"
   ]
  },
  {
   "cell_type": "code",
   "execution_count": 75,
   "metadata": {
    "scrolled": true
   },
   "outputs": [
    {
     "data": {
      "image/png": "[encoded data removed]",
      "text/plain": [
       "<Figure size 432x288 with 1 Axes>"
      ]
     },
     "metadata": {
      "needs_background": "light"
     },
     "output_type": "display_data"
    }
   ],
   "source": [
    "#алгоритм Штрассена\n",
    "f = np.polyfit(kol, times, 3)\n",
    "xx = np.linspace(0, 2**(kol.shape[0]-1), 500)\n",
    "yy = np.polyval(f, xx)\n",
    "plt.plot(xx, yy, color = 'tab:blue',label='Strassens algorithm')\n",
    "plt.plot(kol, times, 'o', color = 'tab:orange')\n",
    "\n",
    "#обычный алгоритм перемножения матриц\n",
    "f1=np.polyfit(kol, times1, 3)\n",
    "xx1 = np.linspace(0, 2**(kol.shape[0]-1), 500)\n",
    "yy1 = np.polyval(f1, xx1)\n",
    "plt.plot(xx1, yy1, color = 'tab:red',label='Usual algorithm')\n",
    "plt.plot(kol, times1, 'o', color = 'tab:green')\n",
    "\n",
    "plt.title('График роста времени работы алгоритмов')\n",
    "plt.xlabel('Порядок матрицы')\n",
    "plt.ylabel('Время работы алгоритмов')\n",
    "plt.legend()\n",
    "plt.grid()"
   ]
  },
  {
   "cell_type": "markdown",
   "metadata": {},
   "source": [
    "Видно,что в матрицах, порядок которых $2^5$и более, алгоритм Штрассена работает быстрее, причем, чем больше порядок матриц, тем больше разница во времени работы алгоритмов."
   ]
  },
  {
   "cell_type": "markdown",
   "metadata": {},
   "source": [
    "Продолжим исследование и попробуем доказать асимптотику данных алгоритмов - n^log2(7) для алгоритма Штрассена и $n^3$ для обычного алгоритма перемножения матрицы.Для этого построим графики $\\frac{f(n)}{n^3}$ и $\\frac{f1(n)}{n^log2(7)}$:"
   ]
  },
  {
   "cell_type": "code",
   "execution_count": 107,
   "metadata": {},
   "outputs": [
    {
     "data": {
      "image/png": "[encoded data removed]",
      "text/plain": [
       "<Figure size 432x288 with 1 Axes>"
      ]
     },
     "metadata": {
      "needs_background": "light"
     },
     "output_type": "display_data"
    }
   ],
   "source": [
    "#алгоритм Штрассена\n",
    "d1=[]\n",
    "for i in range (0,len(times)):\n",
    "    d10 = times[i]/(kol[i]**(math.log2(7)))\n",
    "    d1.append(d10)\n",
    "plt.plot(kol, d1 , '.', label ='Strassens algorithm',color = 'tab:red')\n",
    "\n",
    "\n",
    "#обычный алгоритм перемножения матриц\n",
    "d=[]\n",
    "for i in range (0,len(times1)):\n",
    "    d0 = times1[i]/(kol[i]**3)\n",
    "    d.append(d0)\n",
    "plt.plot(kol, d , '.', label ='Usual algorithm',color = 'tab:green')\n",
    "\n",
    "plt.legend(loc = 'best', framealpha = 1)\n",
    "plt.xlabel(\"Порядок матрицы\")\n",
    "plt.ylabel(\"Время работы функции\")\n",
    "plt.title(\"Зависимость\")\n",
    "pass\n",
    "\n",
    "plt.grid()"
   ]
  },
  {
   "cell_type": "markdown",
   "metadata": {},
   "source": [
    "Можно заметить,что из-за нехватки вычислительной мощности и погрешности измерений, результаты получается не совсем точные и часть графика является константым 0.Но даже по таким данным можно сделать вывод,что время работы обычного алгоритма умножения матрицы растет кубически, а алгоритма Штрассена согласно графику n^log2(7)."
   ]
  },
  {
   "cell_type": "markdown",
   "metadata": {},
   "source": [
    "# Выводы:"
   ]
  },
  {
   "cell_type": "markdown",
   "metadata": {},
   "source": [
    "Я провел исследовательскую работу и выяснил,что алгоритм Штрассена работает быстрее стандартного алгоритма перемножения матриц для матриц порядка  $2^n$,начиная с размерности $2^5*2^5$.\n",
    "Кроме того,я сравнил график с реальной асипмтотикой и выяснил,что время выполнения обычного алгоритма умножения матриц растет кубически,а алгоритма Штрассена по графику n^log2(7)."
   ]
  }
 ],
 "metadata": {
  "kernelspec": {
   "display_name": "Python 3",
   "language": "python",
   "name": "python3"
  },
  "language_info": {
   "codemirror_mode": {
    "name": "ipython",
    "version": 3
   },
   "file_extension": ".py",
   "mimetype": "text/x-python",
   "name": "python",
   "nbconvert_exporter": "python",
   "pygments_lexer": "ipython3",
   "version": "3.8.5"
  }
 },
 "nbformat": 4,
 "nbformat_minor": 4
}
