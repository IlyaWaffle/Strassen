{
 "cells": [
  {
   "cell_type": "markdown",
   "metadata": {},
   "source": [
    "# Метод Штрассена Кротов Илья Павлович 381908-2 Вариант 17\n",
    "Реализация метода   Штрассена:\n",
    "<img src=\"Strassen.jpg\">"
   ]
  },
  {
   "cell_type": "code",
   "execution_count": 1,
   "metadata": {},
   "outputs": [],
   "source": [
    "import numpy as np\n",
    "import time\n",
    "import random\n",
    "import matplotlib.pyplot as plt\n",
    "import math"
   ]
  },
  {
   "cell_type": "code",
   "execution_count": 2,
   "metadata": {},
   "outputs": [],
   "source": [
    "def strassen(A,B):\n",
    "    n = len(A)\n",
    "    C = np.zeros((n*n), dtype=np.float32).reshape(n,n)\n",
    "    if n == 1:\n",
    "        C[0][0] = A[0][0] * B[0][0]\n",
    "    else:\n",
    "        k = n//2\n",
    "        \n",
    "        a11 = A[:k,:k]\n",
    "        a21 = A[k:,:k]\n",
    "        a12 = A[:k,k:]\n",
    "        a22 = A[k:,k:]\n",
    "        \n",
    "        b11 = B[:k,:k]\n",
    "        b21 = B[k:,:k]\n",
    "        b12 = B[:k,k:]\n",
    "        b22 = B[k:,k:]\n",
    "\n",
    "        d1 = strassen(a11+a22,b11+b22)\n",
    "        d2 = strassen(a12-a22,b21+b22)\n",
    "        d3 = strassen(a11-a21,b11+b12)\n",
    "        d4 = strassen(a11+a12,b22)\n",
    "        d5 = strassen(a21+a22,b11)\n",
    "        d6 = strassen(a11,b12-b22)\n",
    "        d7 = strassen(a22,b21-b11)\n",
    "\n",
    "        C[:k,:k] = d1+d2-d4+d7\n",
    "        C[:k, k:] = d4+d6\n",
    "        C[k:, :k] = d5+d7\n",
    "        C[k:, k:] = d1-d3-d5+d6\n",
    "\n",
    "    return C"
   ]
  },
  {
   "cell_type": "code",
   "execution_count": 3,
   "metadata": {},
   "outputs": [],
   "source": [
    "def UsualMult(A, B):\n",
    "    n = A.shape[0]\n",
    "    C = np.zeros((n*n), dtype=np.float32).reshape(n,n)\n",
    "    if n == 1:\n",
    "        C[0][0] = A[0][0] * B[0][0]\n",
    "    else:\n",
    "        for i in range(n):\n",
    "            for k in range(n):\n",
    "                for j in range(n):\n",
    "                    C[i][j] += A[i][k] * B[k][j]\n",
    "    return C"
   ]
  },
  {
   "cell_type": "code",
   "execution_count": 4,
   "metadata": {
    "scrolled": false
   },
   "outputs": [
    {
     "name": "stdout",
     "output_type": "stream",
     "text": [
      "N =  1\n",
      "StrassenTime = 0.0\n",
      "UsualTime    = 0.0\n",
      "N =  2\n",
      "StrassenTime = 0.0\n",
      "UsualTime    = 0.0\n",
      "N =  4\n",
      "StrassenTime = 0.0009\n",
      "UsualTime    = 0.0\n",
      "N =  8\n",
      "StrassenTime = 0.0049\n",
      "UsualTime    = 0.0030\n",
      "N =  16\n",
      "StrassenTime = 0.0239\n",
      "UsualTime    = 0.0219\n",
      "N =  32\n",
      "StrassenTime = 0.1589\n",
      "UsualTime    = 0.1758\n",
      "N =  64\n",
      "StrassenTime = 1.1422\n",
      "UsualTime    = 1.3861\n",
      "N =  128\n",
      "StrassenTime = 8.1427\n",
      "UsualTime    = 10.744\n"
     ]
    }
   ],
   "source": [
    "g = 8\n",
    "por = np.zeros(g)\n",
    "\n",
    "timeStrassen = np.zeros((g),dtype=np.float)\n",
    "timeUsual = np.zeros((g),dtype=np.float)\n",
    "\n",
    "for i in range (g):\n",
    "    \n",
    "    n = 2**i\n",
    "    por[i] = n\n",
    "    \n",
    "    A = np.random.uniform(0,1, size=(n,n))\n",
    "    B = np.random.uniform(0,1, size=(n,n))\n",
    "    \n",
    "    start = time.time()\n",
    "    C = strassen(A, B)\n",
    "    end = time.time() - start\n",
    "    timeStrassen[i] = end\n",
    "    \n",
    "    start = time.time()\n",
    "    C = UsualMult(A,B)\n",
    "    end = time.time() - start\n",
    "    timeUsual[i] = end\n",
    "    \n",
    "    print('N = ', n)\n",
    "    print('StrassenTime = %.6s' % timeStrassen[i])\n",
    "    print('UsualTime    = %.6s' % timeUsual[i])"
   ]
  },
  {
   "cell_type": "markdown",
   "metadata": {},
   "source": [
    "Как мы видим, после матрицы размерами больше, чем 16, метод штрассена становится эффективнее простого метода умножения матриц\n",
    "\n",
    "Построим график зависимости времени от размерности матрицы для этих двух методов"
   ]
  },
  {
   "cell_type": "code",
   "execution_count": 5,
   "metadata": {
    "scrolled": true
   },
   "outputs": [
    {
     "data": {
      "text/plain": [
       "<matplotlib.legend.Legend at 0x21748471100>"
      ]
     },
     "execution_count": 5,
     "metadata": {},
     "output_type": "execute_result"
    },
    {
     "data": {
      "image/png": "[encoded data removed]",
      "text/plain": [
       "<Figure size 432x288 with 1 Axes>"
      ]
     },
     "metadata": {
      "needs_background": "light"
     },
     "output_type": "display_data"
    }
   ],
   "source": [
    "fs = np.polyfit(por,timeStrassen,4)\n",
    "fd = np.polyfit(por,timeUsual,4)\n",
    "xx = np.linspace(0,2**(por.shape[0]-1),500)  \n",
    "uu = np.linspace(0,2**(por.shape[0]-1),500)\n",
    "yyS = np.polyval(fs, xx)\n",
    "yyD = np.polyval(fd, uu)   \n",
    "plt.plot(xx, yyS, color = 'tab:red',label='метод Штрассена')\n",
    "plt.plot(uu, yyD, color = 'tab:green',label='Простой метод')\n",
    "plt.plot(por, timeStrassen ,'o', color = 'tab:blue')\n",
    "plt.plot(por, timeUsual,'o', color = 'tab:purple')\n",
    "plt.xlabel('Время работы метода')\n",
    "plt.ylabel('Размерность матрицы')\n",
    "plt.grid()\n",
    "plt.legend()"
   ]
  },
  {
   "cell_type": "markdown",
   "metadata": {},
   "source": [
    "На этом графике мы видим что простой метод умножения уступает методу штрассена, но только на больших размерах матрицы"
   ]
  },
  {
   "cell_type": "code",
   "execution_count": 6,
   "metadata": {
    "scrolled": true
   },
   "outputs": [
    {
     "data": {
      "image/png": "[encoded data removed]",
      "text/plain": [
       "<Figure size 432x288 with 1 Axes>"
      ]
     },
     "metadata": {
      "needs_background": "light"
     },
     "output_type": "display_data"
    }
   ],
   "source": [
    "timeStrassen2 = []\n",
    "timeUsual2 = []\n",
    "for i in range (0,len(timeUsual)):\n",
    "    timeStrassen2.append(timeStrassen[i]/(por[i]**(math.log2(7))))\n",
    "    timeUsual2.append(timeUsual[i]/(por[i]**3))\n",
    "plt.plot(por, timeUsual2 , '.', label ='Простой метод',color = 'tab:green')\n",
    "plt.plot(por, timeStrassen2 , '.', label ='Метод Штрассена',color = 'tab:red')\n",
    "plt.legend(loc = 'best', framealpha = 1)\n",
    "plt.xlabel(\"Порядок матрицы\")\n",
    "plt.ylabel(\"Время работы функции\")\n",
    "plt.title(\"Зависимость\")\n",
    "pass\n",
    "\n",
    "plt.grid()"
   ]
  },
  {
   "cell_type": "markdown",
   "metadata": {},
   "source": [
    "Поделив время выполнения простого метода на $n^3$ и метода Штрассена на $n^{log_2 7}$, мы увидим что на графике что отношение времени выполнения программы к её сложности имеет предел. Исходя из этого метод Штрассена растёт по $n^{log_2 7}$, а простой метод по $n^3$"
   ]
  },
  {
   "cell_type": "markdown",
   "metadata": {},
   "source": [
    "# Вывод\n",
    "Из данной программы мы можем наблюдать значительную эффективность метода штрассена при работе с большими матрицами размером $2^n$. Однако, можно усовершенствовать метод штрассена, добавив условие применения данного метода только при использовании больших матриц, и использовать простой метод умножения для небольших матриц."
   ]
  }
 ],
 "metadata": {
  "kernelspec": {
   "display_name": "Python 3",
   "language": "python",
   "name": "python3"
  },
  "language_info": {
   "codemirror_mode": {
    "name": "ipython",
    "version": 3
   },
   "file_extension": ".py",
   "mimetype": "text/x-python",
   "name": "python",
   "nbconvert_exporter": "python",
   "pygments_lexer": "ipython3",
   "version": "3.8.5"
  }
 },
 "nbformat": 4,
 "nbformat_minor": 4
}
